{
 "cells": [
  {
   "cell_type": "code",
   "execution_count": 53,
   "metadata": {
    "ExecuteTime": {
     "end_time": "2017-05-05T12:40:09.307736Z",
     "start_time": "2017-05-05T12:40:09.304238Z"
    },
    "collapsed": true
   },
   "outputs": [],
   "source": [
    "import sklearn as sk\n",
    "import pandas as pd\n",
    "import numpy as np\n",
    "from sklearn.decomposition import PCA\n",
    "from sklearn.cluster import DBSCAN"
   ]
  },
  {
   "cell_type": "code",
   "execution_count": 23,
   "metadata": {
    "ExecuteTime": {
     "end_time": "2017-05-05T12:04:24.802138Z",
     "start_time": "2017-05-05T12:04:15.341467Z"
    },
    "collapsed": false,
    "scrolled": false
   },
   "outputs": [],
   "source": [
    "lista_attr = []\n",
    "with open('dataset.txt', 'r') as dataset:\n",
    "    for line in dataset:\n",
    "        line.strip()\n",
    "        initia = line.find('[')\n",
    "        lista_list = [float(x) for x in line[initia + 1: -2].split(', ')]\n",
    "        lista_attr.append(lista_list)\n"
   ]
  },
  {
   "cell_type": "code",
   "execution_count": 27,
   "metadata": {
    "ExecuteTime": {
     "end_time": "2017-05-05T12:13:16.368572Z",
     "start_time": "2017-05-05T12:12:40.053567Z"
    },
    "collapsed": false
   },
   "outputs": [],
   "source": [
    "X = np.array(lista_attr)\n",
    "pca = PCA(n_components = 50)\n",
    "X_new = pca.fit_transform(X) "
   ]
  },
  {
   "cell_type": "code",
   "execution_count": 59,
   "metadata": {
    "ExecuteTime": {
     "end_time": "2017-05-05T12:47:09.847602Z",
     "start_time": "2017-05-05T12:47:09.839597Z"
    },
    "collapsed": false,
    "scrolled": true
   },
   "outputs": [
    {
     "name": "stdout",
     "output_type": "stream",
     "text": [
      "[ 0.09677511  0.05886284  0.04549392  0.0336914   0.02658878  0.02501407\n",
      "  0.02369812  0.02124501  0.01907082  0.01629285  0.01416668  0.01343007\n",
      "  0.01297935  0.01197357  0.01121607  0.01039287  0.0093623   0.00887111\n",
      "  0.00817023  0.00741812  0.00722397  0.00699888  0.00679285  0.0063146\n",
      "  0.00619671  0.00586309  0.0056263   0.00529969  0.00510283  0.00481783\n",
      "  0.00443306  0.00438451  0.00436362  0.00398348  0.00382861  0.00372676\n",
      "  0.00355261  0.00351135  0.00331477  0.00327756  0.0031756   0.00308605\n",
      "  0.00301297  0.00291429  0.00284045  0.00273841  0.00262855  0.00260947\n",
      "  0.00257284  0.00252117]\n",
      "(4214, 50)\n",
      "[[ 107.86096449  106.96748849  173.17571538 ...,  -13.43378077\n",
      "    43.31229665   31.71410007]\n",
      " [ -20.16786548  -56.97777189 -142.40258096 ...,  -16.76235582  -17.0767526\n",
      "   -10.2676351 ]\n",
      " [ 230.29590346  136.36689034  110.9021059  ...,   -3.30379242\n",
      "     7.37028413   17.84793259]\n",
      " ..., \n",
      " [  32.55423293   24.75614384  -77.3263594  ...,  -11.64878883\n",
      "    -3.47660271   -4.80827396]\n",
      " [   0.78659177   -9.16728232 -117.19358767 ...,  -14.25859025\n",
      "    37.86700675    1.07967077]\n",
      " [  31.59116907  -25.50109643  -79.86667456 ...,   27.12401685\n",
      "   -31.71273275   -0.91106565]]\n"
     ]
    }
   ],
   "source": [
    "print(pca.explained_variance_ratio_)\n",
    "print(X_new.shape)\n",
    "print(X_new)"
   ]
  },
  {
   "cell_type": "code",
   "execution_count": 51,
   "metadata": {
    "ExecuteTime": {
     "end_time": "2017-05-05T12:39:37.449002Z",
     "start_time": "2017-05-05T12:39:37.446000Z"
    },
    "collapsed": true
   },
   "outputs": [],
   "source": [
    "X_backup = X_new"
   ]
  },
  {
   "cell_type": "code",
   "execution_count": 81,
   "metadata": {
    "ExecuteTime": {
     "end_time": "2017-05-05T12:57:52.979262Z",
     "start_time": "2017-05-05T12:57:51.176542Z"
    },
    "collapsed": false
   },
   "outputs": [
    {
     "name": "stdout",
     "output_type": "stream",
     "text": [
      "Estimated number of clusters: 3\n"
     ]
    }
   ],
   "source": [
    "db = DBSCAN(eps = 100, min_samples = 4).fit(X_new)\n",
    "#core_samples_mask = np.zeros_like(db.labels_, dtype=bool)\n",
    "#core_samples_mask[db.core_sample_indices_] = True\n",
    "labels = db.labels_\n",
    "\n",
    "n_clusters_ = len(set(labels)) - (1 if -1 in labels else 0)\n",
    "\n",
    "print('Estimated number of clusters: %d' % n_clusters_)\n"
   ]
  }
 ],
 "metadata": {
  "kernelspec": {
   "display_name": "Python [Root]",
   "language": "python",
   "name": "Python [Root]"
  },
  "language_info": {
   "codemirror_mode": {
    "name": "ipython",
    "version": 3
   },
   "file_extension": ".py",
   "mimetype": "text/x-python",
   "name": "python",
   "nbconvert_exporter": "python",
   "pygments_lexer": "ipython3",
   "version": "3.5.2"
  }
 },
 "nbformat": 4,
 "nbformat_minor": 0
}
