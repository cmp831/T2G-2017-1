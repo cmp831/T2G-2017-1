{
 "cells": [
  {
   "cell_type": "code",
   "execution_count": 1,
   "metadata": {
    "ExecuteTime": {
     "end_time": "2017-05-09T11:06:01.718702Z",
     "start_time": "2017-05-09T11:06:00.191160Z"
    },
    "collapsed": true
   },
   "outputs": [],
   "source": [
    "import sklearn as sk\n",
    "import pandas as pd\n",
    "import numpy as np\n",
    "import matplotlib.pyplot as plt\n",
    "from sklearn import cluster\n",
    "from sklearn.decomposition import PCA\n",
    "from sklearn.cluster import DBSCAN\n",
    "from sklearn.cluster import KMeans\n",
    "from sklearn.cluster import MeanShift, estimate_bandwidth\n",
    "from sklearn.metrics import silhouette_samples, silhouette_score\n",
    "from sklearn.manifold import TSNE\n",
    "from sklearn import metrics\n",
    "%matplotlib inline  "
   ]
  },
  {
   "cell_type": "markdown",
   "metadata": {},
   "source": [
    "# Lee dataset"
   ]
  },
  {
   "cell_type": "code",
   "execution_count": 2,
   "metadata": {
    "ExecuteTime": {
     "end_time": "2017-05-09T11:06:12.549016Z",
     "start_time": "2017-05-09T11:06:02.916230Z"
    },
    "collapsed": false,
    "scrolled": false
   },
   "outputs": [],
   "source": [
    "lista_attr = []\n",
    "with open('dataset.txt', 'r') as dataset:\n",
    "    for line in dataset:\n",
    "        line.strip()\n",
    "        initia = line.find('[')\n",
    "        lista_list = [float(x) for x in line[initia + 1: -2].split(', ')]\n",
    "        lista_attr.append(lista_list)\n"
   ]
  },
  {
   "cell_type": "markdown",
   "metadata": {},
   "source": [
    "# PCA"
   ]
  },
  {
   "cell_type": "code",
   "execution_count": 3,
   "metadata": {
    "ExecuteTime": {
     "end_time": "2017-05-09T11:06:14.194141Z",
     "start_time": "2017-05-09T11:06:12.551018Z"
    },
    "collapsed": false
   },
   "outputs": [],
   "source": [
    "X = np.array(lista_attr)\n",
    "pca = PCA(n_components = 50)\n",
    "X_new = pca.fit_transform(X) "
   ]
  },
  {
   "cell_type": "code",
   "execution_count": 4,
   "metadata": {
    "ExecuteTime": {
     "end_time": "2017-05-09T11:06:14.208214Z",
     "start_time": "2017-05-09T11:06:14.195642Z"
    },
    "collapsed": false,
    "scrolled": true
   },
   "outputs": [
    {
     "name": "stdout",
     "output_type": "stream",
     "text": [
      "[ 0.09677511  0.05886284  0.04549392  0.0336914   0.02658878  0.02501407\n",
      "  0.02369812  0.02124501  0.01907082  0.01629285  0.01416668  0.01343007\n",
      "  0.01297935  0.01197357  0.01121607  0.01039287  0.0093623   0.00887111\n",
      "  0.00817023  0.00741812  0.00722397  0.00699888  0.00679285  0.0063146\n",
      "  0.00619671  0.00586309  0.0056263   0.00529969  0.00510283  0.00481782\n",
      "  0.00443305  0.00438449  0.00436361  0.00398347  0.00382859  0.00372668\n",
      "  0.00355258  0.00351121  0.00331462  0.00327738  0.00317497  0.00308566\n",
      "  0.00301051  0.00291343  0.00283867  0.00273589  0.00262605  0.0025985\n",
      "  0.00256995  0.00251465]\n",
      "(4214, 50)\n",
      "[[ 107.86096449 -106.96748849  173.17571537 ...,  -17.71059721\n",
      "   -46.64998284   33.60180537]\n",
      " [ -20.16786548   56.97777189 -142.40258096 ...,  -19.42941919\n",
      "    17.80564715  -10.16072596]\n",
      " [ 230.29590346 -136.36689034  110.9021059  ...,   -6.47510932\n",
      "    -7.06062784   19.67313856]\n",
      " ..., \n",
      " [  32.55423293  -24.75614384  -77.32635939 ...,   -8.76670369\n",
      "     3.55616005   -2.83493723]\n",
      " [   0.78659177    9.16728232 -117.19358766 ...,  -11.55266805\n",
      "   -37.01342316   -0.83857428]\n",
      " [  31.59116907   25.50109643  -79.86667456 ...,   23.06079391\n",
      "    33.72292674   -0.65008084]]\n"
     ]
    }
   ],
   "source": [
    "print(pca.explained_variance_ratio_)\n",
    "print(X_new.shape)\n",
    "print(X_new)"
   ]
  },
  {
   "cell_type": "code",
   "execution_count": 5,
   "metadata": {
    "ExecuteTime": {
     "end_time": "2017-05-09T11:06:14.400632Z",
     "start_time": "2017-05-09T11:06:14.210716Z"
    },
    "collapsed": true
   },
   "outputs": [],
   "source": [
    "X_backup = X_new"
   ]
  },
  {
   "cell_type": "markdown",
   "metadata": {},
   "source": [
    "# KMeans"
   ]
  },
  {
   "cell_type": "code",
   "execution_count": 6,
   "metadata": {
    "ExecuteTime": {
     "end_time": "2017-05-09T11:06:25.136571Z",
     "start_time": "2017-05-09T11:06:14.402148Z"
    },
    "collapsed": false
   },
   "outputs": [
    {
     "name": "stdout",
     "output_type": "stream",
     "text": [
      "0.0620599464588\n",
      "192.990930275\n",
      "0.0599385091704\n",
      "126.288049418\n",
      "0.0505567007558\n",
      "97.924527086\n",
      "0.0465901482874\n",
      "43.8251679258\n"
     ]
    }
   ],
   "source": [
    "\n",
    "k1 = 10\n",
    "k2 = 20\n",
    "k3 = 30\n",
    "k4 = 100\n",
    "klist = [k1,k2,k3,k4]\n",
    "labels = []\n",
    "centroids = []\n",
    "silavg = []\n",
    "for k in klist :\n",
    "    kmeans = cluster.KMeans(n_clusters=k)\n",
    "    kmeans.fit(X_new)\n",
    "    cluster_labels = kmeans.labels_\n",
    "    labels += [cluster_labels]\n",
    "    centroids += [kmeans.cluster_centers_]\n",
    "    silhouette_avg = silhouette_score(X_new, cluster_labels, metric='euclidean')\n",
    "    print(silhouette_avg)\n",
    "    print(metrics.calinski_harabaz_score(X_new, cluster_labels))\n",
    "#Silhoutte Score "
   ]
  },
  {
   "cell_type": "code",
   "execution_count": null,
   "metadata": {
    "ExecuteTime": {
     "end_time": "2017-05-09T10:21:37.263797Z",
     "start_time": "2017-05-09T10:21:35.984943Z"
    },
    "collapsed": false,
    "scrolled": true
   },
   "outputs": [],
   "source": [
    "#Plot de cada K\n",
    "n = 0\n",
    "for k in klist :\n",
    "    for i in range(k):\n",
    "        # select only data observations with cluster label == i\n",
    "        ds = X_new[np.where(labels[n]==i)]\n",
    "        # plot the data observations\n",
    "        plt.plot(ds[:,0],ds[:,1],'o')\n",
    "        # plot the centroids\n",
    "        lines = plt.plot(centroids[n][i,0],centroids[n][i,1],'kx')\n",
    "        # make the centroid x's bigger\n",
    "        plt.setp(lines,ms=15.0)\n",
    "        plt.setp(lines,mew=2.0)\n",
    "    n += 1\n",
    "    plt.show()"
   ]
  },
  {
   "cell_type": "code",
   "execution_count": null,
   "metadata": {
    "ExecuteTime": {
     "end_time": "2017-05-09T10:21:37.321835Z",
     "start_time": "2017-05-09T10:21:37.265798Z"
    },
    "collapsed": false
   },
   "outputs": [],
   "source": [
    "for cen in labels:\n",
    "    c = 0\n",
    "    for cent in cen:\n",
    "        c+=1\n",
    "    print(c)\n",
    "print(labels)\n",
    "print(centroids)"
   ]
  },
  {
   "cell_type": "markdown",
   "metadata": {},
   "source": [
    "# MeanShift"
   ]
  },
  {
   "cell_type": "code",
   "execution_count": 7,
   "metadata": {
    "ExecuteTime": {
     "end_time": "2017-05-09T11:07:31.156599Z",
     "start_time": "2017-05-09T11:06:25.138073Z"
    },
    "collapsed": false
   },
   "outputs": [
    {
     "name": "stdout",
     "output_type": "stream",
     "text": [
      "12\n",
      "[0 0 0 ..., 0 0 0]\n",
      "369.431065758\n"
     ]
    }
   ],
   "source": [
    "bandwidth = estimate_bandwidth(X_new)\n",
    "ms = MeanShift(bandwidth=bandwidth)\n",
    "ms.fit(X_new)\n",
    "labels_ms = ms.labels_\n",
    "cluster_centers_ms = ms.cluster_centers_\n",
    "n_clusters_ = labels_ms.max()+1\n",
    "print(n_clusters_)\n",
    "print(labels_ms)\n",
    "print(bandwidth)"
   ]
  },
  {
   "cell_type": "code",
   "execution_count": 9,
   "metadata": {
    "ExecuteTime": {
     "end_time": "2017-05-09T11:07:50.197864Z",
     "start_time": "2017-05-09T11:07:49.617197Z"
    },
    "collapsed": false
   },
   "outputs": [
    {
     "name": "stdout",
     "output_type": "stream",
     "text": [
      "0.212359256564\n",
      "14.2873224254\n"
     ]
    }
   ],
   "source": [
    "silhouette_avg = silhouette_score(X_new, labels_ms)\n",
    "print(silhouette_avg)\n",
    "print(metrics.calinski_harabaz_score(X_new, labels_ms))"
   ]
  },
  {
   "cell_type": "code",
   "execution_count": null,
   "metadata": {
    "ExecuteTime": {
     "end_time": "2017-05-09T10:22:54.333628Z",
     "start_time": "2017-05-09T10:22:52.657675Z"
    },
    "collapsed": false
   },
   "outputs": [],
   "source": [
    "for i in range(k):\n",
    "    # select only data observations with cluster label == i\n",
    "    ds = X_new[np.where(labels_ms==i)]\n",
    "    # plot the data observations\n",
    "    plt.plot(ds[:,0],ds[:,1],'o')\n",
    "    # plot the centroids\n",
    "    lines = plt.plot(cluster_centers_ms[i,0],cluster_centers_ms[i,1],'kx')\n",
    "    # make the centroid x's bigger\n",
    "    plt.setp(lines,ms=15.0)\n",
    "    plt.setp(lines,mew=2.0)\n",
    "plt.show()"
   ]
  },
  {
   "cell_type": "markdown",
   "metadata": {},
   "source": [
    "# DBSCAN"
   ]
  },
  {
   "cell_type": "code",
   "execution_count": 10,
   "metadata": {
    "ExecuteTime": {
     "end_time": "2017-05-09T11:08:09.182495Z",
     "start_time": "2017-05-09T11:07:57.943571Z"
    },
    "collapsed": false
   },
   "outputs": [
    {
     "name": "stdout",
     "output_type": "stream",
     "text": [
      "Estimated number of clusters: 3\n",
      "Estimated number of clusters: 8\n",
      "Estimated number of clusters: 13\n"
     ]
    }
   ],
   "source": [
    "db = DBSCAN(eps = 100, min_samples = 4).fit(X_new)\n",
    "db1 = DBSCAN(eps = 270, min_samples = 3).fit(X_new)\n",
    "db2 = DBSCAN(eps = 300, min_samples = 2).fit(X_new)\n",
    "dblabels = db.labels_\n",
    "dblabels1 = db1.labels_\n",
    "dblabels2 = db2.labels_\n",
    "\n",
    "n_clusters_ = len(set(dblabels)) - (1 if -1 in dblabels else 0)\n",
    "n_clusters_1 = len(set(dblabels1)) - (1 if -1 in dblabels1 else 0)\n",
    "n_clusters_2 = len(set(dblabels2)) - (1 if -1 in dblabels2 else 0)\n",
    "\n",
    "print('Estimated number of clusters: %d' % n_clusters_)\n",
    "print('Estimated number of clusters: %d' % n_clusters_1)\n",
    "print('Estimated number of clusters: %d' % n_clusters_2)"
   ]
  },
  {
   "cell_type": "code",
   "execution_count": 11,
   "metadata": {
    "ExecuteTime": {
     "end_time": "2017-05-09T11:08:10.895988Z",
     "start_time": "2017-05-09T11:08:09.183805Z"
    },
    "collapsed": false
   },
   "outputs": [
    {
     "name": "stdout",
     "output_type": "stream",
     "text": [
      "-0.113593679695\n",
      "0.0951594037197\n",
      "0.141705862929\n",
      "54.7463111284\n",
      "23.787623849\n",
      "10.5161811362\n"
     ]
    }
   ],
   "source": [
    "print(silhouette_score(X_new, dblabels))\n",
    "print(silhouette_score(X_new, dblabels1))\n",
    "print(silhouette_score(X_new, dblabels2))\n",
    "print(metrics.calinski_harabaz_score(X_new, dblabels))\n",
    "print(metrics.calinski_harabaz_score(X_new, dblabels1))\n",
    "print(metrics.calinski_harabaz_score(X_new, dblabels2))"
   ]
  },
  {
   "cell_type": "code",
   "execution_count": null,
   "metadata": {
    "ExecuteTime": {
     "end_time": "2017-05-09T11:07:31.926128Z",
     "start_time": "2017-05-09T14:06:34.272Z"
    },
    "collapsed": false
   },
   "outputs": [],
   "source": [
    "np.set_printoptions(threshold=np.inf)\n",
    "print(dblabels)\n",
    "print(dblabels1)\n",
    "print(dblabels2)"
   ]
  },
  {
   "cell_type": "code",
   "execution_count": null,
   "metadata": {
    "ExecuteTime": {
     "end_time": "2017-05-09T10:26:37.301640Z",
     "start_time": "2017-05-09T10:26:37.296138Z"
    },
    "collapsed": true
   },
   "outputs": [],
   "source": [
    "X_backup = X_new"
   ]
  },
  {
   "cell_type": "code",
   "execution_count": null,
   "metadata": {
    "ExecuteTime": {
     "end_time": "2017-05-09T10:28:57.146048Z",
     "start_time": "2017-05-09T10:26:37.303642Z"
    },
    "collapsed": false
   },
   "outputs": [],
   "source": [
    "modelo = TSNE(n_components = 2, perplexity = 50)\n",
    "np.set_printoptions(suppress=True)\n",
    "t_sne=modelo.fit_transform(X_backup)"
   ]
  },
  {
   "cell_type": "code",
   "execution_count": null,
   "metadata": {
    "ExecuteTime": {
     "end_time": "2017-05-09T10:28:57.451251Z",
     "start_time": "2017-05-09T10:28:57.148048Z"
    },
    "collapsed": false
   },
   "outputs": [],
   "source": [
    "print(t_sne)"
   ]
  },
  {
   "cell_type": "markdown",
   "metadata": {},
   "source": [
    "# T-SNE"
   ]
  },
  {
   "cell_type": "code",
   "execution_count": null,
   "metadata": {
    "ExecuteTime": {
     "end_time": "2017-05-09T10:29:07.781295Z",
     "start_time": "2017-05-09T10:28:57.453253Z"
    },
    "collapsed": false
   },
   "outputs": [],
   "source": [
    "for i in t_sne:\n",
    "    plt.plot(i[0], i[1], 'o')"
   ]
  },
  {
   "cell_type": "markdown",
   "metadata": {},
   "source": [
    "# CSV"
   ]
  },
  {
   "cell_type": "code",
   "execution_count": null,
   "metadata": {
    "ExecuteTime": {
     "end_time": "2017-05-09T10:22:54.337131Z",
     "start_time": "2017-05-09T13:19:54.941Z"
    },
    "collapsed": false
   },
   "outputs": [],
   "source": [
    "ids = []\n",
    "with open('dataset.txt', 'r') as dataset:\n",
    "    for line in dataset:\n",
    "        id_start = line.find('/', 3)\n",
    "        id_end = line.find('.', 3)\n",
    "        ids.append(int(line[id_start+1:id_end]))\n",
    "        \n",
    "x = []\n",
    "y = []\n",
    "for t in t_sne:\n",
    "    x.append(t[0])\n",
    "    y.append(t[1])\n",
    "\n",
    "\n",
    "DataSet = list(zip(ids, x, y))\n",
    "df = pd.DataFrame(data = DataSet, columns=['Id', 'x', 'y'])\n",
    "df\n",
    "df.to_csv('datas.csv',index=False,header=False)"
   ]
  }
 ],
 "metadata": {
  "anaconda-cloud": {},
  "kernelspec": {
   "display_name": "Python [Root]",
   "language": "python",
   "name": "Python [Root]"
  },
  "language_info": {
   "codemirror_mode": {
    "name": "ipython",
    "version": 3
   },
   "file_extension": ".py",
   "mimetype": "text/x-python",
   "name": "python",
   "nbconvert_exporter": "python",
   "pygments_lexer": "ipython3",
   "version": "3.5.2"
  }
 },
 "nbformat": 4,
 "nbformat_minor": 0
}
